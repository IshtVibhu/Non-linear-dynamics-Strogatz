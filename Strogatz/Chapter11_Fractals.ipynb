{
 "cells": [
  {
   "cell_type": "code",
   "execution_count": 3,
   "metadata": {},
   "outputs": [
    {
     "name": "stdout",
     "output_type": "stream",
     "text": [
      "IPython console for SymPy 1.0 (Python 3.5.2-64-bit) (ground types: python)\n",
      "\n",
      "These commands were executed:\n",
      ">>> from __future__ import division\n",
      ">>> from sympy import *\n",
      ">>> x, y, z, t = symbols('x y z t')\n",
      ">>> k, m, n = symbols('k m n', integer=True)\n",
      ">>> f, g, h = symbols('f g h', cls=Function)\n",
      ">>> init_printing()\n",
      "\n",
      "Documentation can be found at http://docs.sympy.org/1.0/\n",
      "Loaded a b c theta and phi\n",
      "Load Theano as T\n"
     ]
    }
   ],
   "source": [
    "# %load science.py\n",
    "%matplotlib notebook\n",
    "from sympy import init_session, symbols\n",
    "import numpy as np\n",
    "import matplotlib.pyplot as plt\n",
    "import scipy as sp\n",
    "import pandas as pd\n",
    "import theano as T\n",
    "#from sympy.geometry import *\n",
    "init_session()\n",
    "a,b,c = symbols('a b c')\n",
    "r, theta, phi = symbols('r theta phi', positive=True)\n",
    "print('Loaded a b c theta and phi')\n",
    "print('Load Theano as T')"
   ]
  },
  {
   "cell_type": "markdown",
   "metadata": {},
   "source": [
    "## 11.2: Cantor Set\n",
    "\n",
    "Highly recommended is Daniel Shiffman's [The Nature of Code](http://natureofcode.com/book/chapter-8-fractals/), which uses Processing to generate some awesome reusable code-based visualisations to explore. "
   ]
  },
  {
   "cell_type": "code",
   "execution_count": 4,
   "metadata": {},
   "outputs": [
    {
     "data": {
      "image/png": "[encoded data removed]",
      "text/latex": [
       "$$0$$"
      ],
      "text/plain": [
       "0"
      ]
     },
     "execution_count": 4,
     "metadata": {},
     "output_type": "execute_result"
    }
   ],
   "source": [
    "#What is the limit of  a set? \n",
    "limit(Rational(2,3)**n, z=n, z0=oo, dir='+')"
   ]
  },
  {
   "cell_type": "code",
   "execution_count": 17,
   "metadata": {},
   "outputs": [
    {
     "name": "stdout",
     "output_type": "stream",
     "text": [
      "How many copies does one rescaling create? 9\n",
      "What is the rescaling factor? 3\n",
      "The dimension, d is 2.00\n"
     ]
    }
   ],
   "source": [
    "#Dimension of Self-similar Fractals.\n",
    "n_copies = float(input(\"How many copies does one rescaling create? \"))\n",
    "r_scale_factor = float(input(\"What is the rescaling factor? \"))\n",
    "dimension = np.log(n_copies)/np.log(r_scale_factor)\n",
    "print(\"The dimension, d, is {0:.2f}\".format(dimension))"
   ]
  },
  {
   "cell_type": "markdown",
   "metadata": {},
   "source": [
    "## 11.4: Box and Hausdorff Dimension\n",
    "\n",
    "Noting that Box dimension is not used in practice, Hausdorff dimension can be done using a prewritten module [py-hausdorff](https://github.com/mavillan/py-hausdorff), whihc uses a validated method. The method leverages of Cython and there is a C-code for use, should one be bothered (which for large sets one should indeed be bothered!). "
   ]
  },
  {
   "cell_type": "markdown",
   "metadata": {},
   "source": [
    "## 11.5: Pointwise and Correlation Dimensions (p.418)"
   ]
  },
  {
   "cell_type": "markdown",
   "metadata": {},
   "source": [
    "Again, the problem is not at all [trivial](http://www.scholarpedia.org/article/Grassberger-Procaccia_algorithm) in terms of computational requirements. One approach is to use an already robust package, such as [PyDSTool](http://www.ni.gsu.edu/~rclewley/PyDSTool/FrontPage.html). \n",
    "\n",
    "[PyDSTool code](http://pydoc.net/PyDSTool/0.90.2/PyDSTool.Toolbox.fracdim/)"
   ]
  },
  {
   "cell_type": "markdown",
   "metadata": {},
   "source": [
    "The basic process is:\n",
    "A python approach to correlation of mutli-arrays...[Correlation on array](Chttps://stackoverflow.com/questions/30143417/computing-the-correlation-coefficient-between-two-multi-dimensional-arrays)\n",
    "A readable article on background ...[Algorithm](http://media.wiley.com/product_data/excerpt/25/07803601/0780360125.pdf)\n",
    "And this by [Sprott](http://thor.physics.wisc.edu/pubs/paper255.pdf)"
   ]
  },
  {
   "cell_type": "code",
   "execution_count": 26,
   "metadata": {},
   "outputs": [],
   "source": [
    "#out = np.dot(arr_one,arr_two.T) #MxT; NxT arrays\n",
    "def corr2_coeff(A,B):\n",
    "    # Rowwise mean of input arrays & subtract from input arrays themeselves\n",
    "    A_mA = A - A.mean(1)[:,None]\n",
    "    B_mB = B - B.mean(1)[:,None]\n",
    "    \n",
    "    # Sum of squares across rows\n",
    "    ssA = (A_mA**2).sum(1);\n",
    "    ssB = (B_mB**2).sum(1);\n",
    "\n",
    "    # Finally get corr coeff\n",
    "    return np.dot(A_mA,B_mB.T)/np.sqrt(np.dot(ssA[:,None],ssB[None]))"
   ]
  },
  {
   "cell_type": "code",
   "execution_count": 27,
   "metadata": {},
   "outputs": [
    {
     "data": {
      "image/png": "[encoded data removed]",
      "text/latex": [
       "$$\\left ( 10, \\quad 10\\right )$$"
      ],
      "text/plain": [
       "(10, 10)"
      ]
     },
     "execution_count": 27,
     "metadata": {},
     "output_type": "execute_result"
    }
   ],
   "source": [
    "a1 = np.random.rand(10,3)\n",
    "a2 = np.random.rand(10,3)\n",
    "ans = corr2_coeff(a1,a2)\n",
    "ans.shape"
   ]
  },
  {
   "cell_type": "code",
   "execution_count": null,
   "metadata": {},
   "outputs": [],
   "source": []
  }
 ],
 "metadata": {
  "kernelspec": {
   "display_name": "Python 3",
   "language": "python",
   "name": "python3"
  },
  "language_info": {
   "codemirror_mode": {
    "name": "ipython",
    "version": 3
   },
   "file_extension": ".py",
   "mimetype": "text/x-python",
   "name": "python",
   "nbconvert_exporter": "python",
   "pygments_lexer": "ipython3",
   "version": "3.5.2"
  }
 },
 "nbformat": 4,
 "nbformat_minor": 2
}
